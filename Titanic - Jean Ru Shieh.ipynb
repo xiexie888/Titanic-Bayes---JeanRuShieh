{
 "cells": [
  {
   "cell_type": "code",
   "execution_count": 3,
   "metadata": {},
   "outputs": [
    {
     "data": {
      "text/html": [
       "<div>\n",
       "<style>\n",
       "    .dataframe thead tr:only-child th {\n",
       "        text-align: right;\n",
       "    }\n",
       "\n",
       "    .dataframe thead th {\n",
       "        text-align: left;\n",
       "    }\n",
       "\n",
       "    .dataframe tbody tr th {\n",
       "        vertical-align: top;\n",
       "    }\n",
       "</style>\n",
       "<table border=\"1\" class=\"dataframe\">\n",
       "  <thead>\n",
       "    <tr style=\"text-align: right;\">\n",
       "      <th></th>\n",
       "      <th>pclass</th>\n",
       "      <th>survived</th>\n",
       "      <th>name</th>\n",
       "      <th>sex</th>\n",
       "      <th>age</th>\n",
       "      <th>sibsp</th>\n",
       "      <th>parch</th>\n",
       "      <th>ticket</th>\n",
       "      <th>fare</th>\n",
       "      <th>cabin</th>\n",
       "      <th>embarked</th>\n",
       "      <th>boat</th>\n",
       "      <th>body</th>\n",
       "      <th>home.dest</th>\n",
       "    </tr>\n",
       "  </thead>\n",
       "  <tbody>\n",
       "    <tr>\n",
       "      <th>0</th>\n",
       "      <td>1</td>\n",
       "      <td>1</td>\n",
       "      <td>Allen, Miss. Elisabeth Walton</td>\n",
       "      <td>female</td>\n",
       "      <td>29.0000</td>\n",
       "      <td>0</td>\n",
       "      <td>0</td>\n",
       "      <td>24160</td>\n",
       "      <td>211.3375</td>\n",
       "      <td>B5</td>\n",
       "      <td>S</td>\n",
       "      <td>2</td>\n",
       "      <td>NaN</td>\n",
       "      <td>St Louis, MO</td>\n",
       "    </tr>\n",
       "    <tr>\n",
       "      <th>1</th>\n",
       "      <td>1</td>\n",
       "      <td>1</td>\n",
       "      <td>Allison, Master. Hudson Trevor</td>\n",
       "      <td>male</td>\n",
       "      <td>0.9167</td>\n",
       "      <td>1</td>\n",
       "      <td>2</td>\n",
       "      <td>113781</td>\n",
       "      <td>151.5500</td>\n",
       "      <td>C22 C26</td>\n",
       "      <td>S</td>\n",
       "      <td>11</td>\n",
       "      <td>NaN</td>\n",
       "      <td>Montreal, PQ / Chesterville, ON</td>\n",
       "    </tr>\n",
       "    <tr>\n",
       "      <th>2</th>\n",
       "      <td>1</td>\n",
       "      <td>0</td>\n",
       "      <td>Allison, Miss. Helen Loraine</td>\n",
       "      <td>female</td>\n",
       "      <td>2.0000</td>\n",
       "      <td>1</td>\n",
       "      <td>2</td>\n",
       "      <td>113781</td>\n",
       "      <td>151.5500</td>\n",
       "      <td>C22 C26</td>\n",
       "      <td>S</td>\n",
       "      <td>NaN</td>\n",
       "      <td>NaN</td>\n",
       "      <td>Montreal, PQ / Chesterville, ON</td>\n",
       "    </tr>\n",
       "    <tr>\n",
       "      <th>3</th>\n",
       "      <td>1</td>\n",
       "      <td>0</td>\n",
       "      <td>Allison, Mr. Hudson Joshua Creighton</td>\n",
       "      <td>male</td>\n",
       "      <td>30.0000</td>\n",
       "      <td>1</td>\n",
       "      <td>2</td>\n",
       "      <td>113781</td>\n",
       "      <td>151.5500</td>\n",
       "      <td>C22 C26</td>\n",
       "      <td>S</td>\n",
       "      <td>NaN</td>\n",
       "      <td>135.0</td>\n",
       "      <td>Montreal, PQ / Chesterville, ON</td>\n",
       "    </tr>\n",
       "    <tr>\n",
       "      <th>4</th>\n",
       "      <td>1</td>\n",
       "      <td>0</td>\n",
       "      <td>Allison, Mrs. Hudson J C (Bessie Waldo Daniels)</td>\n",
       "      <td>female</td>\n",
       "      <td>25.0000</td>\n",
       "      <td>1</td>\n",
       "      <td>2</td>\n",
       "      <td>113781</td>\n",
       "      <td>151.5500</td>\n",
       "      <td>C22 C26</td>\n",
       "      <td>S</td>\n",
       "      <td>NaN</td>\n",
       "      <td>NaN</td>\n",
       "      <td>Montreal, PQ / Chesterville, ON</td>\n",
       "    </tr>\n",
       "  </tbody>\n",
       "</table>\n",
       "</div>"
      ],
      "text/plain": [
       "   pclass  survived                                             name     sex  \\\n",
       "0       1         1                    Allen, Miss. Elisabeth Walton  female   \n",
       "1       1         1                   Allison, Master. Hudson Trevor    male   \n",
       "2       1         0                     Allison, Miss. Helen Loraine  female   \n",
       "3       1         0             Allison, Mr. Hudson Joshua Creighton    male   \n",
       "4       1         0  Allison, Mrs. Hudson J C (Bessie Waldo Daniels)  female   \n",
       "\n",
       "       age  sibsp  parch  ticket      fare    cabin embarked boat   body  \\\n",
       "0  29.0000      0      0   24160  211.3375       B5        S    2    NaN   \n",
       "1   0.9167      1      2  113781  151.5500  C22 C26        S   11    NaN   \n",
       "2   2.0000      1      2  113781  151.5500  C22 C26        S  NaN    NaN   \n",
       "3  30.0000      1      2  113781  151.5500  C22 C26        S  NaN  135.0   \n",
       "4  25.0000      1      2  113781  151.5500  C22 C26        S  NaN    NaN   \n",
       "\n",
       "                         home.dest  \n",
       "0                     St Louis, MO  \n",
       "1  Montreal, PQ / Chesterville, ON  \n",
       "2  Montreal, PQ / Chesterville, ON  \n",
       "3  Montreal, PQ / Chesterville, ON  \n",
       "4  Montreal, PQ / Chesterville, ON  "
      ]
     },
     "execution_count": 3,
     "metadata": {},
     "output_type": "execute_result"
    }
   ],
   "source": [
    "import pandas as pd\n",
    "location = \"titanic3.xls\"\n",
    "df = pd.read_excel(location)\n",
    "df.head()"
   ]
  },
  {
   "cell_type": "code",
   "execution_count": 6,
   "metadata": {},
   "outputs": [
    {
     "data": {
      "text/html": [
       "<div>\n",
       "<style>\n",
       "    .dataframe thead tr:only-child th {\n",
       "        text-align: right;\n",
       "    }\n",
       "\n",
       "    .dataframe thead th {\n",
       "        text-align: left;\n",
       "    }\n",
       "\n",
       "    .dataframe tbody tr th {\n",
       "        vertical-align: top;\n",
       "    }\n",
       "</style>\n",
       "<table border=\"1\" class=\"dataframe\">\n",
       "  <thead>\n",
       "    <tr style=\"text-align: right;\">\n",
       "      <th></th>\n",
       "      <th>pclass</th>\n",
       "      <th>survived</th>\n",
       "      <th>name</th>\n",
       "      <th>sex</th>\n",
       "      <th>age</th>\n",
       "      <th>sibsp</th>\n",
       "      <th>parch</th>\n",
       "      <th>ticket</th>\n",
       "      <th>fare</th>\n",
       "      <th>cabin</th>\n",
       "      <th>embarked</th>\n",
       "      <th>boat</th>\n",
       "      <th>body</th>\n",
       "      <th>home.dest</th>\n",
       "      <th>familySize</th>\n",
       "    </tr>\n",
       "  </thead>\n",
       "  <tbody>\n",
       "    <tr>\n",
       "      <th>0</th>\n",
       "      <td>1</td>\n",
       "      <td>1</td>\n",
       "      <td>Allen, Miss. Elisabeth Walton</td>\n",
       "      <td>female</td>\n",
       "      <td>29.0000</td>\n",
       "      <td>0</td>\n",
       "      <td>0</td>\n",
       "      <td>24160</td>\n",
       "      <td>211.3375</td>\n",
       "      <td>B5</td>\n",
       "      <td>S</td>\n",
       "      <td>2</td>\n",
       "      <td>NaN</td>\n",
       "      <td>St Louis, MO</td>\n",
       "      <td>0</td>\n",
       "    </tr>\n",
       "    <tr>\n",
       "      <th>1</th>\n",
       "      <td>1</td>\n",
       "      <td>1</td>\n",
       "      <td>Allison, Master. Hudson Trevor</td>\n",
       "      <td>male</td>\n",
       "      <td>0.9167</td>\n",
       "      <td>1</td>\n",
       "      <td>2</td>\n",
       "      <td>113781</td>\n",
       "      <td>151.5500</td>\n",
       "      <td>C22 C26</td>\n",
       "      <td>S</td>\n",
       "      <td>11</td>\n",
       "      <td>NaN</td>\n",
       "      <td>Montreal, PQ / Chesterville, ON</td>\n",
       "      <td>3</td>\n",
       "    </tr>\n",
       "    <tr>\n",
       "      <th>2</th>\n",
       "      <td>1</td>\n",
       "      <td>0</td>\n",
       "      <td>Allison, Miss. Helen Loraine</td>\n",
       "      <td>female</td>\n",
       "      <td>2.0000</td>\n",
       "      <td>1</td>\n",
       "      <td>2</td>\n",
       "      <td>113781</td>\n",
       "      <td>151.5500</td>\n",
       "      <td>C22 C26</td>\n",
       "      <td>S</td>\n",
       "      <td>NaN</td>\n",
       "      <td>NaN</td>\n",
       "      <td>Montreal, PQ / Chesterville, ON</td>\n",
       "      <td>3</td>\n",
       "    </tr>\n",
       "    <tr>\n",
       "      <th>3</th>\n",
       "      <td>1</td>\n",
       "      <td>0</td>\n",
       "      <td>Allison, Mr. Hudson Joshua Creighton</td>\n",
       "      <td>male</td>\n",
       "      <td>30.0000</td>\n",
       "      <td>1</td>\n",
       "      <td>2</td>\n",
       "      <td>113781</td>\n",
       "      <td>151.5500</td>\n",
       "      <td>C22 C26</td>\n",
       "      <td>S</td>\n",
       "      <td>NaN</td>\n",
       "      <td>135.0</td>\n",
       "      <td>Montreal, PQ / Chesterville, ON</td>\n",
       "      <td>3</td>\n",
       "    </tr>\n",
       "    <tr>\n",
       "      <th>4</th>\n",
       "      <td>1</td>\n",
       "      <td>0</td>\n",
       "      <td>Allison, Mrs. Hudson J C (Bessie Waldo Daniels)</td>\n",
       "      <td>female</td>\n",
       "      <td>25.0000</td>\n",
       "      <td>1</td>\n",
       "      <td>2</td>\n",
       "      <td>113781</td>\n",
       "      <td>151.5500</td>\n",
       "      <td>C22 C26</td>\n",
       "      <td>S</td>\n",
       "      <td>NaN</td>\n",
       "      <td>NaN</td>\n",
       "      <td>Montreal, PQ / Chesterville, ON</td>\n",
       "      <td>3</td>\n",
       "    </tr>\n",
       "  </tbody>\n",
       "</table>\n",
       "</div>"
      ],
      "text/plain": [
       "   pclass  survived                                             name     sex  \\\n",
       "0       1         1                    Allen, Miss. Elisabeth Walton  female   \n",
       "1       1         1                   Allison, Master. Hudson Trevor    male   \n",
       "2       1         0                     Allison, Miss. Helen Loraine  female   \n",
       "3       1         0             Allison, Mr. Hudson Joshua Creighton    male   \n",
       "4       1         0  Allison, Mrs. Hudson J C (Bessie Waldo Daniels)  female   \n",
       "\n",
       "       age  sibsp  parch  ticket      fare    cabin embarked boat   body  \\\n",
       "0  29.0000      0      0   24160  211.3375       B5        S    2    NaN   \n",
       "1   0.9167      1      2  113781  151.5500  C22 C26        S   11    NaN   \n",
       "2   2.0000      1      2  113781  151.5500  C22 C26        S  NaN    NaN   \n",
       "3  30.0000      1      2  113781  151.5500  C22 C26        S  NaN  135.0   \n",
       "4  25.0000      1      2  113781  151.5500  C22 C26        S  NaN    NaN   \n",
       "\n",
       "                         home.dest  familySize  \n",
       "0                     St Louis, MO           0  \n",
       "1  Montreal, PQ / Chesterville, ON           3  \n",
       "2  Montreal, PQ / Chesterville, ON           3  \n",
       "3  Montreal, PQ / Chesterville, ON           3  \n",
       "4  Montreal, PQ / Chesterville, ON           3  "
      ]
     },
     "execution_count": 6,
     "metadata": {},
     "output_type": "execute_result"
    }
   ],
   "source": [
    "df[\"familySize\"]=df[\"sibsp\"]+df[\"parch\"]\n",
    "df.head()"
   ]
  },
  {
   "cell_type": "code",
   "execution_count": 25,
   "metadata": {},
   "outputs": [],
   "source": [
    "Survive_Female =len(df[(df['sex']=='female') & (df['survived'] == 1)])\n",
    "Dead_Female =len(df[(df['sex']=='female') & (df['survived'] == 0)])\n",
    "Survive_Class1 =len(df[(df['pclass']==1) & (df['survived'] == 1)])\n",
    "Dead_Class1 =len(df[(df['pclass']==1) & (df['survived'] == 0)])\n",
    "Survive_Over18 =len(df[(df['age'] >18) & (df['survived'] == 1)])\n",
    "Dead_Over18 =len(df[(df['age'] >18) & (df['survived'] == 0)])\n",
    "Survive = len(df[df['survived'] == 1])\n",
    "Dead=len(df[df['survived']==0])\n",
    "Female=len(df[df['sex']=='female'])\n",
    "Class1=len(df[df['pclass']==1])\n",
    "Over18=len(df[df['age']>18])\n",
    "Total=len(df[df['sex'].notnull() & df['sex'].notnull()])"
   ]
  },
  {
   "cell_type": "code",
   "execution_count": 26,
   "metadata": {},
   "outputs": [],
   "source": [
    "def findBayesSurvive(p_Female_Survive ,p_Class1_Survive,p_Ove18_Survive,p_Total_Survive):\n",
    "    return p_Female_Survive*p_Class1_Survive*p_Ove18_Survive*p_Total_Survive"
   ]
  },
  {
   "cell_type": "code",
   "execution_count": 30,
   "metadata": {},
   "outputs": [
    {
     "name": "stdout",
     "output_type": "stream",
     "text": [
      "0.06878411000763943\n"
     ]
    }
   ],
   "source": [
    "import pandas as pd\n",
    "p_Female_Survive = 339/500\n",
    "p_Class1_Survive=200/500\n",
    "p_Ove18_Survive=332/500\n",
    "p_Total_Survive=500/1309\n",
    "print (findBayesSurvive(p_Female_Survive ,p_Class1_Survive,p_Ove18_Survive,p_Total_Survive))"
   ]
  },
  {
   "cell_type": "code",
   "execution_count": 31,
   "metadata": {},
   "outputs": [],
   "source": [
    "def findBayesDead(p_Female_Dead ,p_Class1_Dead,p_Ove18_Dead,p_Dead):\n",
    "    return p_Female_Dead*p_Class1_Dead*p_Ove18_Dead*p_Dead"
   ]
  },
  {
   "cell_type": "code",
   "execution_count": 32,
   "metadata": {},
   "outputs": [
    {
     "name": "stdout",
     "output_type": "stream",
     "text": [
      "0.009499699462118719\n"
     ]
    }
   ],
   "source": [
    "import pandas as pd\n",
    "p_Female_Dead = 127/809\n",
    "p_Class1_Dead=123/809\n",
    "p_Ove18_Dead =521/809\n",
    "p_Dead =809/1309\n",
    "print (findBayesDead(p_Female_Dead,p_Class1_Dead,p_Ove18_Dead,p_Dead))"
   ]
  },
  {
   "cell_type": "code",
   "execution_count": 33,
   "metadata": {},
   "outputs": [],
   "source": [
    "#prob (woman & firstclass|Survice) > prob(woman&firstclass|Dead)\n",
    "#prob(woman+1stClass | survive) > prob(woman+1stClass | dead)\n",
    "#0.06696697246037843 > 0.009499699462118719\n",
    "# woman in the fisrt class is likely to survive."
   ]
  },
  {
   "cell_type": "code",
   "execution_count": 34,
   "metadata": {},
   "outputs": [
    {
     "data": {
      "text/html": [
       "<div>\n",
       "<style>\n",
       "    .dataframe thead tr:only-child th {\n",
       "        text-align: right;\n",
       "    }\n",
       "\n",
       "    .dataframe thead th {\n",
       "        text-align: left;\n",
       "    }\n",
       "\n",
       "    .dataframe tbody tr th {\n",
       "        vertical-align: top;\n",
       "    }\n",
       "</style>\n",
       "<table border=\"1\" class=\"dataframe\">\n",
       "  <thead>\n",
       "    <tr style=\"text-align: right;\">\n",
       "      <th></th>\n",
       "      <th>pclass</th>\n",
       "      <th>survived</th>\n",
       "      <th>name</th>\n",
       "      <th>sex</th>\n",
       "      <th>age</th>\n",
       "      <th>sibsp</th>\n",
       "      <th>parch</th>\n",
       "      <th>ticket</th>\n",
       "      <th>fare</th>\n",
       "      <th>cabin</th>\n",
       "      <th>embarked</th>\n",
       "      <th>boat</th>\n",
       "      <th>body</th>\n",
       "      <th>home.dest</th>\n",
       "    </tr>\n",
       "  </thead>\n",
       "  <tbody>\n",
       "    <tr>\n",
       "      <th>0</th>\n",
       "      <td>1</td>\n",
       "      <td>1</td>\n",
       "      <td>Allen, Miss. Elisabeth Walton</td>\n",
       "      <td>female</td>\n",
       "      <td>29.0000</td>\n",
       "      <td>0</td>\n",
       "      <td>0</td>\n",
       "      <td>24160</td>\n",
       "      <td>211.3375</td>\n",
       "      <td>B5</td>\n",
       "      <td>S</td>\n",
       "      <td>2</td>\n",
       "      <td>NaN</td>\n",
       "      <td>St Louis, MO</td>\n",
       "    </tr>\n",
       "    <tr>\n",
       "      <th>1</th>\n",
       "      <td>1</td>\n",
       "      <td>1</td>\n",
       "      <td>Allison, Master. Hudson Trevor</td>\n",
       "      <td>male</td>\n",
       "      <td>0.9167</td>\n",
       "      <td>1</td>\n",
       "      <td>2</td>\n",
       "      <td>113781</td>\n",
       "      <td>151.5500</td>\n",
       "      <td>C22 C26</td>\n",
       "      <td>S</td>\n",
       "      <td>11</td>\n",
       "      <td>NaN</td>\n",
       "      <td>Montreal, PQ / Chesterville, ON</td>\n",
       "    </tr>\n",
       "    <tr>\n",
       "      <th>2</th>\n",
       "      <td>1</td>\n",
       "      <td>0</td>\n",
       "      <td>Allison, Miss. Helen Loraine</td>\n",
       "      <td>female</td>\n",
       "      <td>2.0000</td>\n",
       "      <td>1</td>\n",
       "      <td>2</td>\n",
       "      <td>113781</td>\n",
       "      <td>151.5500</td>\n",
       "      <td>C22 C26</td>\n",
       "      <td>S</td>\n",
       "      <td>NaN</td>\n",
       "      <td>NaN</td>\n",
       "      <td>Montreal, PQ / Chesterville, ON</td>\n",
       "    </tr>\n",
       "    <tr>\n",
       "      <th>3</th>\n",
       "      <td>1</td>\n",
       "      <td>0</td>\n",
       "      <td>Allison, Mr. Hudson Joshua Creighton</td>\n",
       "      <td>male</td>\n",
       "      <td>30.0000</td>\n",
       "      <td>1</td>\n",
       "      <td>2</td>\n",
       "      <td>113781</td>\n",
       "      <td>151.5500</td>\n",
       "      <td>C22 C26</td>\n",
       "      <td>S</td>\n",
       "      <td>NaN</td>\n",
       "      <td>135.0</td>\n",
       "      <td>Montreal, PQ / Chesterville, ON</td>\n",
       "    </tr>\n",
       "    <tr>\n",
       "      <th>4</th>\n",
       "      <td>1</td>\n",
       "      <td>0</td>\n",
       "      <td>Allison, Mrs. Hudson J C (Bessie Waldo Daniels)</td>\n",
       "      <td>female</td>\n",
       "      <td>25.0000</td>\n",
       "      <td>1</td>\n",
       "      <td>2</td>\n",
       "      <td>113781</td>\n",
       "      <td>151.5500</td>\n",
       "      <td>C22 C26</td>\n",
       "      <td>S</td>\n",
       "      <td>NaN</td>\n",
       "      <td>NaN</td>\n",
       "      <td>Montreal, PQ / Chesterville, ON</td>\n",
       "    </tr>\n",
       "  </tbody>\n",
       "</table>\n",
       "</div>"
      ],
      "text/plain": [
       "   pclass  survived                                             name     sex  \\\n",
       "0       1         1                    Allen, Miss. Elisabeth Walton  female   \n",
       "1       1         1                   Allison, Master. Hudson Trevor    male   \n",
       "2       1         0                     Allison, Miss. Helen Loraine  female   \n",
       "3       1         0             Allison, Mr. Hudson Joshua Creighton    male   \n",
       "4       1         0  Allison, Mrs. Hudson J C (Bessie Waldo Daniels)  female   \n",
       "\n",
       "       age  sibsp  parch  ticket      fare    cabin embarked boat   body  \\\n",
       "0  29.0000      0      0   24160  211.3375       B5        S    2    NaN   \n",
       "1   0.9167      1      2  113781  151.5500  C22 C26        S   11    NaN   \n",
       "2   2.0000      1      2  113781  151.5500  C22 C26        S  NaN    NaN   \n",
       "3  30.0000      1      2  113781  151.5500  C22 C26        S  NaN  135.0   \n",
       "4  25.0000      1      2  113781  151.5500  C22 C26        S  NaN    NaN   \n",
       "\n",
       "                         home.dest  \n",
       "0                     St Louis, MO  \n",
       "1  Montreal, PQ / Chesterville, ON  \n",
       "2  Montreal, PQ / Chesterville, ON  \n",
       "3  Montreal, PQ / Chesterville, ON  \n",
       "4  Montreal, PQ / Chesterville, ON  "
      ]
     },
     "execution_count": 34,
     "metadata": {},
     "output_type": "execute_result"
    }
   ],
   "source": [
    "import pandas as pd\n",
    "location = \"titanic3.xls\"\n",
    "df = pd.read_excel(location)\n",
    "df.head()"
   ]
  },
  {
   "cell_type": "code",
   "execution_count": 35,
   "metadata": {},
   "outputs": [
    {
     "data": {
      "text/plain": [
       "0       False\n",
       "1        True\n",
       "2       False\n",
       "3        True\n",
       "4       False\n",
       "5        True\n",
       "6       False\n",
       "7        True\n",
       "8       False\n",
       "9        True\n",
       "10       True\n",
       "11      False\n",
       "12      False\n",
       "13      False\n",
       "14       True\n",
       "15       True\n",
       "16       True\n",
       "17      False\n",
       "18      False\n",
       "19       True\n",
       "20       True\n",
       "21      False\n",
       "22       True\n",
       "23      False\n",
       "24      False\n",
       "25       True\n",
       "26       True\n",
       "27      False\n",
       "28      False\n",
       "29       True\n",
       "        ...  \n",
       "1279    False\n",
       "1280     True\n",
       "1281     True\n",
       "1282     True\n",
       "1283     True\n",
       "1284     True\n",
       "1285     True\n",
       "1286    False\n",
       "1287     True\n",
       "1288     True\n",
       "1289     True\n",
       "1290    False\n",
       "1291     True\n",
       "1292     True\n",
       "1293     True\n",
       "1294     True\n",
       "1295     True\n",
       "1296     True\n",
       "1297     True\n",
       "1298     True\n",
       "1299     True\n",
       "1300    False\n",
       "1301     True\n",
       "1302     True\n",
       "1303     True\n",
       "1304    False\n",
       "1305    False\n",
       "1306     True\n",
       "1307     True\n",
       "1308     True\n",
       "Name: sex, Length: 1309, dtype: bool"
      ]
     },
     "execution_count": 35,
     "metadata": {},
     "output_type": "execute_result"
    }
   ],
   "source": [
    "df['sex']=='male'"
   ]
  },
  {
   "cell_type": "code",
   "execution_count": 36,
   "metadata": {},
   "outputs": [],
   "source": [
    "Survive_Male =  len(df[(df['sex']=='male') & (df['survived'] == 1)])\n",
    "Survive_Class2 = len(df[(df['pclass']==2)  & (df['survived'] == 1)])\n",
    "Survive_Under18 = len(df[(df['age']<=18) & (df['survived'] == 1)])\n",
    "Survive = len(df[df['survived'] == 1])\n",
    "Dead_Male =len(df[(df['sex']=='male') & (df['survived'] == 0)])\n",
    "Dead_Class2 =len(df[(df['pclass']==2) & (df['survived'] == 0)])\n",
    "Dead_Under18 =len(df[(df['age'] <=18) & (df['survived'] == 0)])\n",
    "Dead=len(df[df['survived'] == 0])\n",
    "\n",
    "Male =len(df[df['sex']=='male'])\n",
    "Class2 = len(df[df['pclass']==2])\n",
    "Under18 = len(df[df['age']<=18])\n",
    "\n",
    "Total=len(df[df['sex'].notnull() & df['age'].notnull()])"
   ]
  },
  {
   "cell_type": "code",
   "execution_count": 37,
   "metadata": {},
   "outputs": [],
   "source": [
    "def findBayesSurvive1(p_Male_Survive ,p_Class2_Survive,p_Under18_Survive,p_Total_Survive):\n",
    "    return p_Male_Survive*p_Class2_Survive*p_Under18_Survive*p_Total_Survive"
   ]
  },
  {
   "cell_type": "code",
   "execution_count": 7,
   "metadata": {},
   "outputs": [
    {
     "name": "stdout",
     "output_type": "stream",
     "text": [
      "0.006960248565965582\n"
     ]
    }
   ],
   "source": [
    "import pandas as pd\n",
    "p_Male_Survive = 161/500\n",
    "p_Class2_Survive=119/500\n",
    "p_Under18_Survive=95/500\n",
    "p_Total_Survive=500/1046\n",
    "print (findBayesSurvive1(p_Male_Survive ,p_Class2_Survive,p_Under18_Survive,p_Total_Survive))"
   ]
  },
  {
   "cell_type": "code",
   "execution_count": 8,
   "metadata": {},
   "outputs": [],
   "source": [
    "def findBayesDead1(p_Male_Dead ,p_Class2_Dead,p_Under18_Deade,p_Total_Dead):\n",
    "    return p_Male_Dead*p_Class2_Dead*p_Under18_Dead*p_Total_Dead"
   ]
  },
  {
   "cell_type": "code",
   "execution_count": 142,
   "metadata": {},
   "outputs": [
    {
     "name": "stdout",
     "output_type": "stream",
     "text": [
      "0.019914645512537178\n"
     ]
    }
   ],
   "source": [
    "import pandas as pd\n",
    "p_Male_Dead = 682/843\n",
    "p_Class2_Dead=158/277\n",
    "p_Under18_Dead=98/193\n",
    "p_Total_Dead=809/1046\n",
    "print (findBayesDead1(p_Male_Survive ,p_Class2_Survive,p_Under18_Survive,p_Total_Survive))"
   ]
  },
  {
   "cell_type": "code",
   "execution_count": 165,
   "metadata": {},
   "outputs": [],
   "source": [
    "# prob(Girl_2ndClass | Survive)  <  Prob(Girl_2ndClass | Dead)\n",
    "# 0.019305013507051345 < 0.019914645512537178\n",
    "# girl_2ndClass is likely to die"
   ]
  },
  {
   "cell_type": "code",
   "execution_count": 12,
   "metadata": {},
   "outputs": [],
   "source": [
    "# women in 3rd class \n",
    "Survive_Female =len(df[(df['sex']=='female') & (df['survived'] == 1)])\n",
    "Dead_Female =len(df[(df['sex']=='female') & (df['survived'] == 0)])\n",
    "Survive_Class3 =len(df[(df['pclass']==3) & (df['survived'] == 1)])\n",
    "Dead_Class3 =len(df[(df['pclass']==1) & (df['survived'] == 0)])\n",
    "Survive_Over18 =len(df[(df['age'] >18) & (df['survived'] == 1)])\n",
    "Dead_Over18 =len(df[(df['age'] >18) & (df['survived'] == 0)])\n",
    "Survive = len(df[df['survived'] == 1])\n",
    "Dead=len(df[df['survived']==0])\n",
    "Female=len(df[df['sex']=='female'])\n",
    "Class3=len(df[df['pclass']==3])\n",
    "Over18=len(df[df['age']>18])\n",
    "Total=len(df[df['sex'].notnull() & df['sex'].notnull()])"
   ]
  },
  {
   "cell_type": "code",
   "execution_count": 15,
   "metadata": {},
   "outputs": [],
   "source": [
    "def findBayesSurvive2(p_Female_Survive ,p_Class3_Suvive,p_Ove18_Survive,p_Total_Survive):\n",
    "    return p_Female_Survive*p_Class3_Suvive*p_Ove18_Survive*p_Total_Survive"
   ]
  },
  {
   "cell_type": "code",
   "execution_count": 16,
   "metadata": {},
   "outputs": [
    {
     "name": "stdout",
     "output_type": "stream",
     "text": [
      "0.07790129254302104\n"
     ]
    }
   ],
   "source": [
    "p_Female_Survive = 339/500\n",
    "p_Class3_Suvive=181/500\n",
    "p_Ove18_Survive=332/500\n",
    "p_Total_Survive=500/1046\n",
    "print (findBayesSurvive2(p_Female_Survive ,p_Class3_Suvive,p_Ove18_Survive,p_Total_Survive))"
   ]
  },
  {
   "cell_type": "code",
   "execution_count": 17,
   "metadata": {},
   "outputs": [],
   "source": [
    "def findBayesDead2(p_Female_Dead ,p_Class3_Dead,p_Ove18_Dead,p_Total_Dead):\n",
    "    return p_Female_Dead*p_Class3_Dead*p_Ove18_Dead*p_Total_Dead"
   ]
  },
  {
   "cell_type": "code",
   "execution_count": 18,
   "metadata": {},
   "outputs": [
    {
     "name": "stdout",
     "output_type": "stream",
     "text": [
      "0.022334807295492174\n"
     ]
    }
   ],
   "source": [
    "import pandas as pd\n",
    "p_Female_Dead = 127/466\n",
    "p_Class3_Dead=123/709\n",
    "p_Ove18_Dead =521/853\n",
    "p_Total_Dead =809/1046\n",
    "print (findBayesDead2(p_Female_Dead ,p_Class3_Dead,p_Ove18_Dead,p_Total_Dead))"
   ]
  },
  {
   "cell_type": "code",
   "execution_count": 166,
   "metadata": {},
   "outputs": [],
   "source": [
    "#prob(woman+3rdclass |survive) > prob(woman+3rd class | dead)\n",
    "#0.03455202406666402 > 0.022334807295492174"
   ]
  },
  {
   "cell_type": "code",
   "execution_count": 19,
   "metadata": {},
   "outputs": [],
   "source": [
    "#Q4 man in 1st class\n",
    "Survive_Male =len(df[(df['sex']=='male') & (df['survived'] == 1)])\n",
    "Dead_Male =len(df[(df['sex']=='male') & (df['survived'] == 0)])\n",
    "Survive_Class1 =len(df[(df['pclass']==1) & (df['survived'] == 1)])\n",
    "Dead_Class1 =len(df[(df['pclass']==1) & (df['survived'] == 0)])\n",
    "Survive_Over18 =len(df[(df['age'] >18) & (df['survived'] == 1)])\n",
    "Dead_Over18 =len(df[(df['age'] >18) & (df['survived'] == 0)])\n",
    "Survive = len(df[df['survived'] == 1])\n",
    "Dead=len(df[df['survived']==0])\n",
    "Male=len(df[df['sex']=='male'])\n",
    "Class1=len(df[df['pclass']==1])\n",
    "Over18=len(df[df['age']>18])\n",
    "Total=len(df[df['sex'].notnull() & df['age'].notnull()])"
   ]
  },
  {
   "cell_type": "code",
   "execution_count": 20,
   "metadata": {},
   "outputs": [],
   "source": [
    "def findBayesSurvive3(p_Male_Survive ,p_Class1_Survive,p_Ove18_Survive,p_Total_Survive):\n",
    "    return p_Male_Survive*p_Class1_Survive*p_Ove18_Survive*p_Total_Survive"
   ]
  },
  {
   "cell_type": "code",
   "execution_count": 21,
   "metadata": {},
   "outputs": [
    {
     "name": "stdout",
     "output_type": "stream",
     "text": [
      "0.0408810707456979\n"
     ]
    }
   ],
   "source": [
    "import pandas as pd\n",
    "p_Male_Survive = 161/500\n",
    "p_Class1_Suvive=200/500\n",
    "p_Ove18_Survive=332/500\n",
    "p_Total_Survive=500/1046\n",
    "print (findBayesSurvive3(p_Male_Survive ,p_Class1_Suvive,p_Ove18_Survive,p_Total_Survive))"
   ]
  },
  {
   "cell_type": "code",
   "execution_count": 22,
   "metadata": {},
   "outputs": [],
   "source": [
    "def findBayesDead3(p_Male_Dead ,p_Class1_Dead,p_Ove18_Dead,p_Total_Dead):\n",
    "    return p_Male_Dead*p_Class1_Dead*p_Ove18_Dead*p_Total_Dead"
   ]
  },
  {
   "cell_type": "code",
   "execution_count": 23,
   "metadata": {},
   "outputs": [
    {
     "name": "stdout",
     "output_type": "stream",
     "text": [
      "0.14553415155620825\n"
     ]
    }
   ],
   "source": [
    "import pandas as pd\n",
    "p_Male_Dead = 682/843\n",
    "p_Class1_Dead=123/323\n",
    "p_Ove18_Dead =521/853\n",
    "p_Total_Dead =809/1046\n",
    "print (findBayesDead3(p_Male_Dead ,p_Class1_Dead,p_Ove18_Dead,p_Total_Dead))"
   ]
  },
  {
   "cell_type": "code",
   "execution_count": 190,
   "metadata": {},
   "outputs": [],
   "source": [
    "#prob(male_1stclass|survive) < prob(male_1stclass|dead)\n",
    "#0.022001543379521017 < 0.14553415155620825\n",
    "#Male at the Frist Class is likely to die"
   ]
  },
  {
   "cell_type": "code",
   "execution_count": null,
   "metadata": {},
   "outputs": [],
   "source": []
  }
 ],
 "metadata": {
  "kernelspec": {
   "display_name": "Python 3.6",
   "language": "python",
   "name": "python36"
  },
  "language_info": {
   "codemirror_mode": {
    "name": "ipython",
    "version": 3
   },
   "file_extension": ".py",
   "mimetype": "text/x-python",
   "name": "python",
   "nbconvert_exporter": "python",
   "pygments_lexer": "ipython3",
   "version": "3.6.3"
  }
 },
 "nbformat": 4,
 "nbformat_minor": 2
}
